{
 "cells": [
  {
   "cell_type": "markdown",
   "metadata": {},
   "source": [
    "## Problema 1"
   ]
  },
  {
   "cell_type": "code",
   "execution_count": 3,
   "metadata": {},
   "outputs": [
    {
     "name": "stdout",
     "output_type": "stream",
     "text": [
      "¡Un asteroide se acerca a la Tierra demasiado rápido!\n"
     ]
    }
   ],
   "source": [
    "vel_asteroide = 49\n",
    "if vel_asteroide > 25:\n",
    "    print(\"¡Un asteroide se acerca a la Tierra demasiado rápido!\")\n",
    "else:\n",
    "    print(\"No hay nada que temer :)\")"
   ]
  },
  {
   "cell_type": "markdown",
   "metadata": {},
   "source": [
    "## Problema 2"
   ]
  },
  {
   "cell_type": "code",
   "execution_count": 4,
   "metadata": {},
   "outputs": [
    {
     "name": "stdout",
     "output_type": "stream",
     "text": [
      "No hay nada que ver :(\n"
     ]
    }
   ],
   "source": [
    "vel_asteroide = 19\n",
    "if vel_asteroide > 20:\n",
    "    print(\"¡Mira al asteroide pasar en el cielo\")\n",
    "elif vel_asteroide == 20:\n",
    "    print(\"¡Mira al asteroide pasar en el cielo\")\n",
    "else:\n",
    "    print(\"No hay nada que ver :(\")"
   ]
  },
  {
   "cell_type": "markdown",
   "metadata": {},
   "source": [
    "## Problema 3"
   ]
  },
  {
   "cell_type": "code",
   "execution_count": 5,
   "metadata": {},
   "outputs": [
    {
     "name": "stdout",
     "output_type": "stream",
     "text": [
      "¡Un gran asteroide se dirige a la Tierra!\n"
     ]
    }
   ],
   "source": [
    "dim_asteroide = 42\n",
    "vel_asteroide = 49\n",
    "if dim_asteroide > 25 and vel_asteroide > 25:\n",
    "    print(\"¡Un gran asteroide se dirige a la Tierra!\")\n",
    "elif dim_asteroide < 25 and vel_asteroide > 25:\n",
    "    print(\"¡Un asteroide se desintegrara en la atmósfera de la Tierra\")\n",
    "elif vel_asteroide >= 20 and vel_asteroide < 25:\n",
    "    print(\"¡Mira al asteroide pasar en el cielo\")\n",
    "elif dim_asteroide < 25 or vel_asteroide < 25:\n",
    "    print(\"No pasa nada :)\")"
   ]
  }
 ],
 "metadata": {
  "interpreter": {
   "hash": "db4ec6305c20255a56cf0aef12cc16480843595d97dda8bc68f58afa18fb44fe"
  },
  "kernelspec": {
   "display_name": "Python 3.10.0 64-bit",
   "language": "python",
   "name": "python3"
  },
  "language_info": {
   "codemirror_mode": {
    "name": "ipython",
    "version": 3
   },
   "file_extension": ".py",
   "mimetype": "text/x-python",
   "name": "python",
   "nbconvert_exporter": "python",
   "pygments_lexer": "ipython3",
   "version": "3.10.0"
  },
  "orig_nbformat": 4
 },
 "nbformat": 4,
 "nbformat_minor": 2
}
