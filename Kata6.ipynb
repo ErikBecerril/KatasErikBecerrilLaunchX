{
 "cells": [
  {
   "cell_type": "markdown",
   "metadata": {},
   "source": [
    "## Problema 1"
   ]
  },
  {
   "cell_type": "code",
   "execution_count": 2,
   "metadata": {},
   "outputs": [
    {
     "name": "stdout",
     "output_type": "stream",
     "text": [
      "There are 8 planets.\n",
      "There are 9 planets.\n",
      "Pluto is the last one.\n"
     ]
    }
   ],
   "source": [
    "planets = [\"Mercury\", \"Venus\", \"Earth\", \"Mars\", \"Jupiter\", \"Saturn\", \"Uranus\", \"Neptune\"]\n",
    "print(\"There are\", len(planets), \"planets.\")\n",
    "planets.append(\"Pluto\")\n",
    "print(\"There are\", len(planets), \"planets.\")\n",
    "print(planets[8] + \" is the last one.\")"
   ]
  },
  {
   "cell_type": "markdown",
   "metadata": {},
   "source": [
    "## Problema 2"
   ]
  },
  {
   "cell_type": "code",
   "execution_count": 3,
   "metadata": {},
   "outputs": [
    {
     "name": "stdout",
     "output_type": "stream",
     "text": [
      "These planets are closer to the Sun than Uranus\n",
      "['Mercury', 'Venus', 'Earth', 'Mars', 'Jupiter', 'Saturn']\n",
      "These planets are further to the Sun than Uranus\n",
      "['Neptune']\n"
     ]
    }
   ],
   "source": [
    "planets = [\"Mercury\", \"Venus\", \"Earth\", \"Mars\", \"Jupiter\", \"Saturn\", \"Uranus\", \"Neptune\"]\n",
    "planet= input(\"Type a planet name (The first letter must be capital)\")\n",
    "planet_index = planets.index(planet)\n",
    "print(\"These planets are closer to the Sun than \" + planet)\n",
    "print(planets[0:planet_index])\n",
    "print(\"These planets are further to the Sun than \" + planet)\n",
    "print(planets[planet_index + 1:])"
   ]
  }
 ],
 "metadata": {
  "interpreter": {
   "hash": "db4ec6305c20255a56cf0aef12cc16480843595d97dda8bc68f58afa18fb44fe"
  },
  "kernelspec": {
   "display_name": "Python 3.10.0 64-bit",
   "language": "python",
   "name": "python3"
  },
  "language_info": {
   "codemirror_mode": {
    "name": "ipython",
    "version": 3
   },
   "file_extension": ".py",
   "mimetype": "text/x-python",
   "name": "python",
   "nbconvert_exporter": "python",
   "pygments_lexer": "ipython3",
   "version": "3.10.0"
  },
  "orig_nbformat": 4
 },
 "nbformat": 4,
 "nbformat_minor": 2
}
