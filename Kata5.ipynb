{
 "cells": [
  {
   "cell_type": "markdown",
   "metadata": {},
   "source": [
    "## Problema 1"
   ]
  },
  {
   "cell_type": "code",
   "execution_count": 12,
   "metadata": {},
   "outputs": [
    {
     "name": "stdout",
     "output_type": "stream",
     "text": [
      "628949330\n",
      "390577533.93\n"
     ]
    }
   ],
   "source": [
    "d_Tierra = 149597870 #en km\n",
    "d_Jupiter = 778547200 #en km\n",
    "\n",
    "d_entre_planetas = (d_Jupiter - d_Tierra)  #Para distancia en km\n",
    "print(d_entre_planetas)\n",
    "\n",
    "d_entre_planetas_mi = d_entre_planetas * 0.621\n",
    "print(d_entre_planetas_mi)"
   ]
  },
  {
   "cell_type": "markdown",
   "metadata": {},
   "source": [
    "## Problema 2"
   ]
  },
  {
   "cell_type": "code",
   "execution_count": 13,
   "metadata": {},
   "outputs": [
    {
     "name": "stdout",
     "output_type": "stream",
     "text": [
      "8775556\n",
      "5449620.276\n"
     ]
    }
   ],
   "source": [
    "d_planeta1 = input(\"Introduce la distancia al Sol del primer planeta en km\")\n",
    "d_planeta2 = input(\"Introduce la distancia al Sol del segundo planeta en km\")\n",
    "\n",
    "d_planeta1 = int(d_planeta1)\n",
    "d_planeta2 = int(d_planeta2)\n",
    "d_entre_planetas = d_planeta2 - d_planeta1\n",
    "print(abs(d_entre_planetas))\n",
    "d_entre_planetas_mi = d_entre_planetas * 0.621\n",
    "print(abs(d_entre_planetas_mi))"
   ]
  }
 ],
 "metadata": {
  "interpreter": {
   "hash": "db4ec6305c20255a56cf0aef12cc16480843595d97dda8bc68f58afa18fb44fe"
  },
  "kernelspec": {
   "display_name": "Python 3.10.0 64-bit",
   "language": "python",
   "name": "python3"
  },
  "language_info": {
   "codemirror_mode": {
    "name": "ipython",
    "version": 3
   },
   "file_extension": ".py",
   "mimetype": "text/x-python",
   "name": "python",
   "nbconvert_exporter": "python",
   "pygments_lexer": "ipython3",
   "version": "3.10.0"
  },
  "orig_nbformat": 4
 },
 "nbformat": 4,
 "nbformat_minor": 2
}
