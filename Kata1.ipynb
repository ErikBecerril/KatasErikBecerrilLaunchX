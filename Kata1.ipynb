{
 "cells": [
  {
   "cell_type": "markdown",
   "metadata": {},
   "source": [
    "## Mi primer programa"
   ]
  },
  {
   "cell_type": "code",
   "execution_count": 2,
   "metadata": {},
   "outputs": [
    {
     "name": "stdout",
     "output_type": "stream",
     "text": [
      "Today's date is: 2022-02-21\n"
     ]
    }
   ],
   "source": [
    "from datetime import date \n",
    "print(\"Today\\'s date is: \" + str(date.today()))"
   ]
  },
  {
   "cell_type": "markdown",
   "metadata": {},
   "source": [
    "## Convertidor de unidades "
   ]
  },
  {
   "cell_type": "code",
   "execution_count": 3,
   "metadata": {},
   "outputs": [
    {
     "name": "stdout",
     "output_type": "stream",
     "text": [
      "11parsec, is 35.877159999999996 lightyears.\n"
     ]
    }
   ],
   "source": [
    "persec = 11 \n",
    "lightyears = 3.26156 * persec \n",
    "\n",
    "print(str(persec) + \"parsec, is \" + str(lightyears) + \" lightyears.\")"
   ]
  }
 ],
 "metadata": {
  "interpreter": {
   "hash": "db4ec6305c20255a56cf0aef12cc16480843595d97dda8bc68f58afa18fb44fe"
  },
  "kernelspec": {
   "display_name": "Python 3.10.0 64-bit",
   "language": "python",
   "name": "python3"
  },
  "language_info": {
   "codemirror_mode": {
    "name": "ipython",
    "version": 3
   },
   "file_extension": ".py",
   "mimetype": "text/x-python",
   "name": "python",
   "nbconvert_exporter": "python",
   "pygments_lexer": "ipython3",
   "version": "3.10.0"
  },
  "orig_nbformat": 4
 },
 "nbformat": 4,
 "nbformat_minor": 2
}
